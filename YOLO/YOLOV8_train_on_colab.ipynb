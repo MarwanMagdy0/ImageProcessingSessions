{
  "nbformat": 4,
  "nbformat_minor": 0,
  "metadata": {
    "colab": {
      "provenance": [],
      "gpuType": "T4"
    },
    "kernelspec": {
      "name": "python3",
      "display_name": "Python 3"
    },
    "language_info": {
      "name": "python"
    },
    "accelerator": "GPU"
  },
  "cells": [
    {
      "cell_type": "code",
      "source": [
        "!nvidia-smi"
      ],
      "metadata": {
        "id": "zErzt_ZN4qO3"
      },
      "execution_count": null,
      "outputs": []
    },
    {
      "cell_type": "code",
      "source": [
        "!pip install ultralytics\n",
        "from ultralytics import YOLO\n",
        "from IPython.display import display, Image\n",
        "!pip install roboflow"
      ],
      "metadata": {
        "id": "mMQp9KThsIOF"
      },
      "execution_count": null,
      "outputs": []
    },
    {
      "cell_type": "code",
      "source": [
        "# Here put the code from Roboflow"
      ],
      "metadata": {
        "id": "5Pwl_cwGscAM"
      },
      "execution_count": null,
      "outputs": []
    },
    {
      "cell_type": "code",
      "source": [
        "import yaml\n",
        "\n",
        "def remove_substring_from_paths(yaml_file, substring):\n",
        "    # Load the YAML file\n",
        "    with open(yaml_file, 'r') as file:\n",
        "        data = yaml.safe_load(file)\n",
        "\n",
        "    # Modify the train and val paths\n",
        "    data['train'] = \"train/images\"\n",
        "    data['val']   = \"valid/images\"\n",
        "\n",
        "    # Save the modified YAML file\n",
        "    with open(yaml_file, 'w') as file:\n",
        "        yaml.dump(data, file)\n",
        "\n",
        "# Example usage\n",
        "yaml_file = f\"{dataset.location}/data.yaml\"\n",
        "substring_to_remove = dataset.location.split('/')[-1]\n",
        "remove_substring_from_paths(yaml_file, substring_to_remove)\n"
      ],
      "metadata": {
        "id": "fEHeZ6Ccduuu"
      },
      "execution_count": null,
      "outputs": []
    },
    {
      "cell_type": "code",
      "source": [
        "!yolo task=detect mode=train model=yolov8n.pt data={dataset.location}/data.yaml epochs = 20 imgsz=640 save_period=5"
      ],
      "metadata": {
        "id": "HMAwOOgWuJxq"
      },
      "execution_count": null,
      "outputs": []
    },
    {
      "cell_type": "code",
      "source": [],
      "metadata": {
        "id": "eFDquKsSfcPA"
      },
      "execution_count": null,
      "outputs": []
    }
  ]
}